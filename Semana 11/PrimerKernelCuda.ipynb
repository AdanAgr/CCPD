{
  "nbformat": 4,
  "nbformat_minor": 0,
  "metadata": {
    "colab": {
      "provenance": [],
      "gpuType": "A100"
    },
    "kernelspec": {
      "name": "python3",
      "display_name": "Python 3"
    },
    "language_info": {
      "name": "python"
    },
    "accelerator": "GPU"
  },
  "cells": [
    {
      "cell_type": "code",
      "source": [
        "!uv pip install -q --system numba-cuda==0.4.0 --force-reinstall"
      ],
      "metadata": {
        "id": "fWpGyqs0fN31"
      },
      "execution_count": 1,
      "outputs": []
    },
    {
      "cell_type": "code",
      "source": [
        "from numba import config\n",
        "config.CUDA_ENABLE_PYNVJITLINK = 1"
      ],
      "metadata": {
        "id": "y8sOkaaDfTMm"
      },
      "execution_count": 2,
      "outputs": []
    },
    {
      "cell_type": "code",
      "execution_count": 6,
      "metadata": {
        "colab": {
          "base_uri": "https://localhost:8080/"
        },
        "id": "q0J6OdZwTkLT",
        "outputId": "b156bc7f-176a-4cfa-d948-5573c70fc9df"
      },
      "outputs": [
        {
          "output_type": "stream",
          "name": "stdout",
          "text": [
            "[   1    2    3 ... 4094 4095 4096]\n"
          ]
        },
        {
          "output_type": "stream",
          "name": "stderr",
          "text": [
            "/usr/local/lib/python3.11/dist-packages/numba_cuda/numba/cuda/dispatcher.py:605: NumbaPerformanceWarning: Grid size 32 will likely result in GPU under-utilization due to low occupancy.\n",
            "  warn(NumbaPerformanceWarning(msg))\n"
          ]
        }
      ],
      "source": [
        "from numba import cuda\n",
        "import numpy as np\n",
        "\n",
        "# Kernels decorados con `@cuda.jit` no devuelven valores\n",
        "# No es necesaria signatura de tipos\n",
        "@cuda.jit\n",
        "def add_kernel(x, y, out):\n",
        "    idx = cuda.grid(1)\n",
        "        # 1 = grid unidimensional\n",
        "        # cuda.grid(1) = cuda.threadIdx.x + cuda.blockIdx.x*cuda.blockDim.x\n",
        "    out[idx] = x[idx] + y[idx]\n",
        "\n",
        "\n",
        "n = 4096\n",
        "h_x = np.arange(n).astype(np.float32)  # [0.0 ... 4095.0]\n",
        "h_y = np.ones_like(h_x)              # [1.0 ... 1.0]\n",
        "\n",
        "d_x = cuda.to_device(h_x)\n",
        "d_y = cuda.to_device(h_y)\n",
        "d_out = cuda.device_array_like(d_x)\n",
        "\n",
        "# Necesitamos un hilo para cada elemento (4096)\n",
        "threads_per_block = 128\n",
        "blocks_per_grid = 32\n",
        "\n",
        "add_kernel[blocks_per_grid, threads_per_block](d_x, d_y, d_out)\n",
        "cuda.synchronize() # Esto sería innecesario\n",
        "print(d_out.copy_to_host().astype(np.int16)) # Resultado: [1...4096]"
      ]
    },
    {
      "cell_type": "code",
      "source": [],
      "metadata": {
        "id": "te13oUKFcwPh"
      },
      "execution_count": null,
      "outputs": []
    }
  ]
}